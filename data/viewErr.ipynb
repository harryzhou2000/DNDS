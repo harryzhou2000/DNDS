{
 "cells": [
  {
   "cell_type": "code",
   "execution_count": null,
   "metadata": {},
   "outputs": [],
   "source": [
    "import numpy as np\n",
    "import matplotlib.pyplot as plt\n",
    "\n",
    "\n",
    "\n",
    "fname = \"out/test_Euler_.NACA0012_WIDE_H4_M_2023-04-03_276352.log\"\n",
    "\n",
    "for rep in range(10):\n",
    "\n",
    "    fin = open(fname, \"r\")\n",
    "    lines = fin.readlines()\n",
    "    fin.close()\n",
    "\n",
    "    headline = lines[0]\n",
    "    nData = headline.split().__len__()\n",
    "    nLines = lines.__len__()\n",
    "\n",
    "    dataIn = np.zeros([nLines, nData])\n",
    "\n",
    "    for iLine in range(nLines):\n",
    "        dataIn[iLine, :] = np.array(\n",
    "            list(map(lambda x: float(x), lines[iLine].split())))\n",
    "\n",
    "    dataInInner = dataIn[dataIn[:, 1] > 0, :]\n",
    "\n",
    "    isee = 2 # res_rho\n",
    "\n",
    "    fig = plt.figure(1, figsize=np.array([4, 3]) * 2, facecolor = 'white')\n",
    "    ax = plt.axes()\n",
    "    ax.set_yscale('log')\n",
    "    ax.grid('both')\n",
    "    ax.set_xlabel('n_iterin')\n",
    "    plt.plot(dataInInner[:,1], dataInInner[:,isee])\n",
    "    plt.draw()\n",
    "    fig.set_frameon(True)\n",
    "    fig.savefig('cur.png')\n",
    "\n",
    "\n"
   ]
  },
  {
   "cell_type": "code",
   "execution_count": null,
   "metadata": {},
   "outputs": [],
   "source": [
    "\n"
   ]
  }
 ],
 "metadata": {
  "kernelspec": {
   "display_name": "Python 3",
   "language": "python",
   "name": "python3"
  },
  "language_info": {
   "name": "python",
   "version": "3.8.10"
  },
  "orig_nbformat": 4
 },
 "nbformat": 4,
 "nbformat_minor": 2
}
